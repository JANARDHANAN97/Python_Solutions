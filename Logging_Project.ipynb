{
 "cells": [
  {
   "cell_type": "code",
   "execution_count": 1,
   "metadata": {},
   "outputs": [],
   "source": [
    "import logging\n",
    "import requests\n",
    "import os"
   ]
  },
  {
   "cell_type": "code",
   "execution_count": 54,
   "metadata": {},
   "outputs": [],
   "source": [
    "logging.basicConfig(level=logging.DEBUG, format=\"%(asctime)s - %(process)d - %(name)s - %(levelname)s - %(message)s\")"
   ]
  },
  {
   "cell_type": "code",
   "execution_count": 81,
   "metadata": {},
   "outputs": [],
   "source": [
    "\n",
    "def test_decorator(func):    \n",
    "    # implement with code that does the following\n",
    "    #\n",
    "    # 1. implement this as a decorator ( see PEP 318 – Decorators for Functions and Methods: https://peps.python.org/pep-0318/ ).  This decorator decorates the function 'test_rest_api' below\n",
    "    # 2. The decorator\n",
    "    # 2.1    logs all arguments that are passed to the decorated function using the logging API ( see https://docs.python.org/3/howto/logging.html#logging-basic-tutorial and https://docs.python.org/3/library/logging.html)\n",
    "    #             example of obtaining a logger:  logger = logging.getLogger(\"mylogger\")\n",
    "    # 2.2    sets the environment variable TRACKING_URI (set it to any URL string that you like) before calling the decorated function.  \n",
    "    # 2.3    injects values for the keyword argument 'logger' to the decorated function.  See above for sample code to get a 'logger'\n",
    "    # 2.4    And unsets this environment variable after the call to the decorated function completes    \n",
    "    # 2.5    catches any exceptions raised by the decorated function and logs the exception\n",
    "    #pass\n",
    "    def logging_func(*args, **kwargs): \n",
    "        logger = logging.getLogger(\"Logging_test\")\n",
    "        os.environ[\"TRACKING_URI\"] = \"new_var\"\n",
    "        logger.info(\"Keyword auruments:{}\".format(*args))\n",
    "        logger.info(\"Non Keyword auruments: {}\".format(kwargs))\n",
    "        logger.info(\"API Arguments: url={}, headers={}, params={}, json={})\".format(args[0], args[1], args[2], args[3]))\n",
    "        func(*args, logger = logger,  **kwargs)\n",
    "        os.environ.pop('TRACKING_URI', None)\n",
    "    return logging_func"
   ]
  },
  {
   "cell_type": "code",
   "execution_count": 83,
   "metadata": {},
   "outputs": [
    {
     "name": "stderr",
     "output_type": "stream",
     "text": [
      "2022-08-21 20:54:43,703 - 12956 - Logging_test - INFO - Keyword auruments:https://postman-echo.com/post\n",
      "2022-08-21 20:54:43,703 - 12956 - Logging_test - INFO - Non Keyword auruments: {}\n",
      "2022-08-21 20:54:43,704 - 12956 - Logging_test - INFO - API Arguments: url=https://postman-echo.com/post, headers={'Authorization': 'Basic abcdefgh'}, params={'key1': 'value1', 'key2': 'value2'}, json={'postkey1': 'postval1', 'postkey2': 'postval2'})\n",
      "2022-08-21 20:54:43,707 - 12956 - urllib3.connectionpool - DEBUG - Starting new HTTPS connection (1): postman-echo.com:443\n",
      "2022-08-21 20:54:44,844 - 12956 - urllib3.connectionpool - DEBUG - https://postman-echo.com:443 \"POST /post?key1=value1&key2=value2 HTTP/1.1\" 200 559\n",
      "2022-08-21 20:54:44,847 - 12956 - Logging_test - INFO - Response <Response [200]>\n",
      "2022-08-21 20:54:44,847 - 12956 - Logging_test - INFO - Response Text {\"args\":{\"key1\":\"value1\",\"key2\":\"value2\"},\"data\":{\"postkey1\":\"postval1\",\"postkey2\":\"postval2\"},\"files\":{},\"form\":{},\"headers\":{\"x-forwarded-proto\":\"https\",\"x-forwarded-port\":\"443\",\"host\":\"postman-echo.com\",\"x-amzn-trace-id\":\"Root=1-63024e3b-133213fd090abda74547429b\",\"content-length\":\"48\",\"user-agent\":\"python-requests/2.25.1\",\"accept-encoding\":\"gzip, deflate\",\"accept\":\"*/*\",\"authorization\":\"Basic abcdefgh\",\"content-type\":\"application/json\"},\"json\":{\"postkey1\":\"postval1\",\"postkey2\":\"postval2\"},\"url\":\"https://postman-echo.com/post?key1=value1&key2=value2\"}\n",
      "2022-08-21 20:54:44,848 - 12956 - Logging_test - INFO - !!! Done\n"
     ]
    }
   ],
   "source": [
    "@test_decorator\n",
    "def test_rest_api(url, headers, params, body, *args, logger=None, **kwargs):\n",
    "    \"\"\"\n",
    "    this function makes a POST call to the specified 'url' using 'headers', 'params' (query params) and 'body' (POST data)\n",
    "    \n",
    "    this function is decorated with the decorator 'test_decorator' (see above)\n",
    "    \n",
    "    implement code that\n",
    "    1. POSTs to the specified rest API using the arguments 'url', 'headers', 'params' and 'body': POST <url>\n",
    "    2. uses the 'logger' argument to log the response of the REST API ( see https://docs.python.org/3/howto/logging.html#logging-basic-tutorial and https://docs.python.org/3/library/logging.html)\n",
    "    3. uses the 'logger' argument to log the environment variable 'TRACKING_URI'\n",
    "\n",
    "\n",
    "    Args:\n",
    "        url (str): REST API URL that supports a POST\n",
    "        headers: headers to be passed to the the POST request\n",
    "        params: query arguments / parameters to be passed to the POST request\n",
    "        body: the data (body) for the POST request\n",
    "        logger : a logger object.  You can obtain a logger using logging.getLogger(<some_name_for_logger>).  See https://docs.python.org/3/howto/logging.html#logging-basic-tutorial for details\n",
    "    \"\"\"\n",
    "    #env_var = os.environ[\"env1\"]\n",
    "    resp = requests.post(url=url, headers=headers, params=params, json=body)\n",
    "    logger.info(\"Response {}\".format(resp))\n",
    "    logger.info(\"Response Text {}\".format(resp.text))\n",
    "    logger.info(\"!!! Done\")\n",
    "\n",
    "# Echo API | Postman Learning Center: https://learning.postman.com/docs/developer/echo-api/\n",
    "test_rest_api('https://postman-echo.com/post', {'Authorization':'Basic abcdefgh'}, {'key1':'value1', 'key2':'value2'}, {'postkey1':'postval1', 'postkey2':'postval2'}) \n",
    "#print(resp.text)"
   ]
  },
  {
   "cell_type": "code",
   "execution_count": null,
   "metadata": {},
   "outputs": [],
   "source": []
  }
 ],
 "metadata": {
  "kernelspec": {
   "display_name": "Python 3",
   "language": "python",
   "name": "python3"
  },
  "language_info": {
   "codemirror_mode": {
    "name": "ipython",
    "version": 3
   },
   "file_extension": ".py",
   "mimetype": "text/x-python",
   "name": "python",
   "nbconvert_exporter": "python",
   "pygments_lexer": "ipython3",
   "version": "3.8.3"
  }
 },
 "nbformat": 4,
 "nbformat_minor": 4
}
